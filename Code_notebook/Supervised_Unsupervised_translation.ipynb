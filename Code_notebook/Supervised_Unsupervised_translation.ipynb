{
  "nbformat": 4,
  "nbformat_minor": 0,
  "metadata": {
    "accelerator": "GPU",
    "colab": {
      "name": "Version finale 2 with more supervised results.ipynb",
      "provenance": []
    },
    "kernelspec": {
      "display_name": "Python 3",
      "language": "python",
      "name": "python3"
    },
    "language_info": {
      "codemirror_mode": {
        "name": "ipython",
        "version": 3
      },
      "file_extension": ".py",
      "mimetype": "text/x-python",
      "name": "python",
      "nbconvert_exporter": "python",
      "pygments_lexer": "ipython3",
      "version": "3.6.6"
    }
  },
  "cells": [
    {
      "cell_type": "code",
      "metadata": {
        "colab": {
          "base_uri": "https://localhost:8080/"
        },
        "id": "GSn29AkJ0u1s",
        "outputId": "4151412d-f9bd-4645-d44b-76007131b73b"
      },
      "source": [
        "!mkdir data\n",
        "# Download english and french embeddings\n",
        "!curl -Lo data/wiki.en.vec https://dl.fbaipublicfiles.com/fasttext/vectors-wiki/wiki.en.vec\n",
        "!curl -Lo data/wiki.fr.vec https://dl.fbaipublicfiles.com/fasttext/vectors-wiki/wiki.fr.vec\n",
        "\n",
        "# Download dictionnary en-fr\n",
        "!curl -Lo data/dic-en-fr.txt https://dl.fbaipublicfiles.com/arrival/dictionaries/en-fr.txt"
      ],
      "execution_count": null,
      "outputs": [
        {
          "output_type": "stream",
          "text": [
            "  % Total    % Received % Xferd  Average Speed   Time    Time     Time  Current\n",
            "                                 Dload  Upload   Total   Spent    Left  Speed\n",
            "100 6291M  100 6291M    0     0  13.0M      0  0:08:02  0:08:02 --:--:-- 13.0M\n",
            "  % Total    % Received % Xferd  Average Speed   Time    Time     Time  Current\n",
            "                                 Dload  Upload   Total   Spent    Left  Speed\n",
            "100 2886M  100 2886M    0     0  13.6M      0  0:03:31  0:03:31 --:--:-- 13.7M\n",
            "  % Total    % Received % Xferd  Average Speed   Time    Time     Time  Current\n",
            "                                 Dload  Upload   Total   Spent    Left  Speed\n",
            "100 1814k  100 1814k    0     0   996k      0  0:00:01  0:00:01 --:--:--  996k\n"
          ],
          "name": "stdout"
        }
      ]
    },
    {
      "cell_type": "markdown",
      "metadata": {
        "id": "H10Hd8YNalf_"
      },
      "source": [
        "# **SUPERVISED LEARNING :**"
      ]
    },
    {
      "cell_type": "markdown",
      "metadata": {
        "id": "NqVumx-Bh0ti"
      },
      "source": [
        "For the unsupervised part to work, our functions are in evaluate_utils.py and gan_utils.py and they should be downloaded (they are in the same directory as the notebook)"
      ]
    },
    {
      "cell_type": "code",
      "metadata": {
        "id": "mbErZoyVZ0VE"
      },
      "source": [
        "import io\n",
        "import numpy as np\n",
        "from numpy.linalg import norm\n",
        "import scipy\n",
        "import evaluate_utils\n",
        "import gan_utils"
      ],
      "execution_count": null,
      "outputs": []
    },
    {
      "cell_type": "markdown",
      "metadata": {
        "id": "mkGpo1fJfTlm"
      },
      "source": [
        "# Function modules"
      ]
    },
    {
      "cell_type": "code",
      "metadata": {
        "id": "Gck6J_jzZ0VL"
      },
      "source": [
        "def load_vec(emb_path, nmax=50000):\n",
        "    vectors = []\n",
        "    word2id = {}\n",
        "    with io.open(emb_path, 'r', encoding='utf-8', newline='\\n', errors='ignore') as f:\n",
        "        next(f)\n",
        "        for i, line in enumerate(f):\n",
        "            word, vect = line.rstrip().split(' ', 1)\n",
        "            vect = np.fromstring(vect, sep=' ')\n",
        "            assert word not in word2id, 'word found twice'\n",
        "            vectors.append(vect)\n",
        "            word2id[word] = len(word2id)\n",
        "            if len(word2id) == nmax:\n",
        "                break\n",
        "    id2word = {v: k for k, v in word2id.items()}\n",
        "    embeddings = np.vstack(vectors)\n",
        "    return embeddings, id2word, word2id\n",
        "\n",
        "def cos_sim(a,b):\n",
        "     return np.dot(a, b)/(norm(a)*norm(b))\n",
        "\n",
        "def orthogonalize_svd(W):\n",
        "    U, s, Vh = np.linalg.svd(W)\n",
        "    return U.dot(Vh)\n",
        "\n",
        "def align_vectors(dic_path, src_embeddings, tgt_embeddings, src_word2id, tgt_word2id, verbose = 0):\n",
        "    \"\"\"\n",
        "    Returns src_embeddings, tgt_embeddings so that their correspondant lines represent the same word in \n",
        "    the two languages\n",
        "    \"\"\"\n",
        "    src = []\n",
        "    tgt = []\n",
        "    with io.open(dic_path, 'r', encoding='utf-8', newline='\\n', errors='ignore') as f:\n",
        "        next(f)\n",
        "        for i, line in enumerate(f):\n",
        "            word_src, word_tgt = line.rstrip().split(' ', 1)\n",
        "            try :\n",
        "                word_src_id, word_tgt_id = src_word2id[word_src], tgt_word2id[word_tgt]\n",
        "                src.append(src_embeddings[word_src_id])\n",
        "                tgt.append(tgt_embeddings[word_tgt_id])\n",
        "            except:\n",
        "                if verbose == 1 :\n",
        "                  print(\"Word from dictionnary:\", word_src, \"or\", word_tgt, \"is not found in original embeddings\")\n",
        "            \n",
        "    return np.array(src), np.array(tgt)\n",
        "\n",
        "def cos_gdt_dst(alpha, x, z, ite):\n",
        "    \"\"\"assume nb_words < min(x.shape[0],z.shape[0])\"\"\"\n",
        "    dim = x.shape[1]\n",
        "    W = np.zeros((dim,dim))\n",
        "    \n",
        "    grad = np.zeros((dim,dim))\n",
        "    for j in range(x.shape[0]):\n",
        "        grad += np.dot(x[j].reshape(-1,1),z[j].reshape(1,-1))\n",
        "    \n",
        "    for i in range(ite):\n",
        "        W = W + alpha * grad\n",
        "        W = orthogonalize_svd(W)\n",
        "    return W\n",
        "\n",
        "def quad_gdt_dst(alpha, x, z, ite, orth=True,rd=False):\n",
        "    #Loss function = sum(||Wx_i - z_i||^2)\n",
        "    #grad = sum((Wx_i-z_i)transp(x_i))\n",
        "    dim = x.shape[1]\n",
        "    if rd:\n",
        "        W = np.random.random((dim,dim))\n",
        "    else:\n",
        "        W = np.zeros((dim,dim))\n",
        "    \n",
        "    for i in range(ite):\n",
        "        grad = np.zeros((dim,dim))\n",
        "        for j in range(x.shape[0]):\n",
        "            Wx = np.dot(W,x[j])\n",
        "            grad += np.dot(Wx-z[j],x[j])\n",
        "            \n",
        "        W = W + alpha * grad\n",
        "        if orth: W = orthogonalize_svd(W)\n",
        "    return W\n",
        "\n",
        "def evaluate(X,Z):\n",
        "    cpt, bef_t, aft_t = 0,0,0\n",
        "    for i in range(X.shape[0]):\n",
        "        bef_t += cos_sim(X[i],Z[i])\n",
        "        aft_t += cos_sim(W.dot(X[i]).T,Z[i])\n",
        "        cpt += 1\n",
        "    print(\"Before training :\", bef_t/cpt)\n",
        "    print(\"After training :\", aft_t/cpt)\n",
        "\n",
        "def get_nn(word, src_emb, src_id2word, tgt_emb, tgt_id2word, W, K=5, target=None):\n",
        "    if target==None: print(\"Nearest neighbors of \\\"%s\\\":\" % word)\n",
        "    word2id = {v: k for k, v in src_id2word.items()}\n",
        "    word_emb = W.dot(src_emb[word2id[word]])\n",
        "    scores = (tgt_emb / np.linalg.norm(tgt_emb, 2, 1)[:, None]).dot(word_emb / np.linalg.norm(word_emb))\n",
        "    k_best = scores.argsort()[-K:][::-1]\n",
        "    if target==None:\n",
        "        for i, idx in enumerate(k_best):\n",
        "            print('%.4f - %s' % (scores[idx], tgt_id2word[idx]))\n",
        "    else:\n",
        "        for i, idx in enumerate(k_best):\n",
        "            if tgt_id2word[idx]==target:\n",
        "                return(i+1)\n",
        "        return(-1)\n",
        "\n",
        "def test_ranks(dic_path,W, tgt_emb,tgt_id2word,K=10,sep=' '):\n",
        "\n",
        "    hist = [0 for k in range(K)]\n",
        "    count=0\n",
        "    total=0\n",
        "    with io.open(dic_path, 'r', encoding='utf-8', newline='\\n', errors='ignore') as f:\n",
        "        next(f)\n",
        "        total += 1\n",
        "        for i, line in enumerate(f):\n",
        "            count += 1\n",
        "            word_src, word_tgt = line.rstrip().split(sep, 1)\n",
        "            try :\n",
        "                word_src_id, word_tgt_id = src_word2id[word_src], tgt_word2id[word_tgt]\n",
        "            except:\n",
        "                count-=1\n",
        "            rk = get_nn(word_src,src_embeddings,src_id2word,tgt_emb,tgt_id2word, W, K=K,target=word_tgt)\n",
        "            if rk>0:\n",
        "                hist[rk-1]+=1\n",
        "    return (hist,count)\n",
        "\n",
        "def procrustes(x, z):\n",
        "  return orthogonalize_svd((z.T).dot(x))"
      ],
      "execution_count": null,
      "outputs": []
    },
    {
      "cell_type": "markdown",
      "metadata": {
        "id": "UgrYYs6TfnrY"
      },
      "source": [
        "# Preprocessing (Re-run for unsupervised)"
      ]
    },
    {
      "cell_type": "code",
      "metadata": {
        "id": "upNJJ3mV0z8z"
      },
      "source": [
        "src_path = 'data/wiki.en.vec'\n",
        "tgt_path = 'data/wiki.fr.vec'\n",
        "dic_path = 'data/dic-en-fr.txt'\n",
        "\n",
        "nmax = 100000  # maximum number of word embeddings to load\n",
        "\n",
        "src_embeddings, src_id2word, src_word2id = load_vec(src_path, nmax)\n",
        "tgt_embeddings, tgt_id2word, tgt_word2id = load_vec(tgt_path, nmax)"
      ],
      "execution_count": null,
      "outputs": []
    },
    {
      "cell_type": "code",
      "metadata": {
        "id": "G__KO5GCnu0D"
      },
      "source": [
        "# Dicpath should point to a dictionnary going from src language to tgt language\n",
        "dicpath = 'data/dic-en-fr.txt'\n",
        "X,Z = align_vectors(dicpath, src_embeddings, tgt_embeddings, src_word2id,tgt_word2id)\n",
        "# X , Z are now embeddings that are translations of each other line by line"
      ],
      "execution_count": null,
      "outputs": []
    },
    {
      "cell_type": "markdown",
      "metadata": {
        "id": "4kMsPZ3B_f0Y"
      },
      "source": [
        "We subdivise our data"
      ]
    },
    {
      "cell_type": "code",
      "metadata": {
        "id": "jc5Ju8NKmsy6"
      },
      "source": [
        "train_size = 0.7\n",
        "val_size = 0.03\n",
        "X_train, Z_train = X[:int(X.shape[0]*train_size)], Z[:int(Z.shape[0]*train_size)]\n",
        "X_val, Z_val = X[int(X.shape[0]*train_size):int(X.shape[0]*(train_size+val_size))], Z[int(X.shape[0]*train_size):int(X.shape[0]*(train_size+val_size))]\n",
        "X_test, Z_test = X[int(X.shape[0]*(val_size+train_size)):], Z[int(Z.shape[0]*(val_size+train_size)):]"
      ],
      "execution_count": null,
      "outputs": []
    },
    {
      "cell_type": "markdown",
      "metadata": {
        "id": "CAaSfY5w_kdz"
      },
      "source": [
        "We normalize the previous arrays as it increases performance"
      ]
    },
    {
      "cell_type": "code",
      "metadata": {
        "id": "UZM10PMcoBF6"
      },
      "source": [
        "X_train_norm = X_train / norm(X_train, axis = 1).reshape(X_train.shape[0],1)\n",
        "Z_train_norm = Z_train / norm(Z_train, axis = 1).reshape(Z_train.shape[0],1)\n",
        "\n",
        "X_test_norm = X_test / norm(X_test, axis = 1).reshape(X_test.shape[0],1)\n",
        "Z_test_norm = Z_test / norm(Z_test, axis = 1).reshape(Z_test.shape[0],1)\n",
        "\n",
        "X_val_norm = X_val / norm(X_val, axis = 1).reshape(X_val.shape[0],1)\n",
        "Z_val_norm = Z_val / norm(Z_val, axis = 1).reshape(Z_val.shape[0],1)\n",
        "\n",
        "tgt_embeddings_norm = tgt_embeddings / norm(tgt_embeddings, axis = 1).reshape(tgt_embeddings.shape[0],1)\n",
        "src_embeddings_norm = src_embeddings / norm(src_embeddings, axis = 1).reshape(src_embeddings.shape[0],1)"
      ],
      "execution_count": null,
      "outputs": []
    },
    {
      "cell_type": "markdown",
      "metadata": {
        "id": "kL9XraPkiOmK"
      },
      "source": [
        "We test different initializations"
      ]
    },
    {
      "cell_type": "code",
      "metadata": {
        "id": "wd4Qukc0Z0VL"
      },
      "source": [
        "# Test with orthogonalization and zeros initialization\n",
        "W = quad_gdt_dst(0.5,X_train_norm,Z_train_norm, 500)\n",
        "\n",
        "# Test without orthogonalization and zeros initialization\n",
        "W_z_n = quad_gdt_dst(0.005,X_train_norm,Z_train_norm, 50,orth=False)\n",
        "\n",
        "# Test with orthogonalization and random initialization \n",
        "W_r_n = quad_gdt_dst(0.005,X_train_norm,Z_train_norm, 50,orth=False,rd=True)\n",
        "\n",
        "# Test with orthogonalization and random initialization \n",
        "W_r_o = quad_gdt_dst(0.5,X_train_norm,Z_train_norm, 50,rd=True)\n",
        "\n",
        "# Run algorithm with orthogonalization and zeros initialization \n",
        "W_full = quad_gdt_dst(0.5,X_train_norm,Z_train_norm, 500)"
      ],
      "execution_count": null,
      "outputs": []
    },
    {
      "cell_type": "code",
      "metadata": {
        "id": "GAs4AlC3Z0VL",
        "outputId": "f22d5ead-bc7f-452f-a598-9caca239b3f4"
      },
      "source": [
        "#H,c = test_ranks('train_en_fr.txt',W,tgt_embeddings,tgt_id2word)\n",
        "\n",
        "\n",
        "import matplotlib.pyplot as plt\n",
        "\n",
        "def rank_histogram(L):\n",
        "    H = []\n",
        "    for i in range(len(L)):\n",
        "        H += L[i]*[i]\n",
        "    plt.hist(H)\n",
        "\n",
        "rank_histogram(H)"
      ],
      "execution_count": null,
      "outputs": [
        {
          "output_type": "display_data",
          "data": {
            "image/png": "[encoded data removed]",
            "text/plain": [
              "<Figure size 432x288 with 1 Axes>"
            ]
          },
          "metadata": {
            "tags": [],
            "needs_background": "light"
          }
        }
      ]
    },
    {
      "cell_type": "code",
      "metadata": {
        "id": "LClixZSFZ0VM",
        "outputId": "ebc7017a-5933-4d14-b3e3-6bea82db6a06"
      },
      "source": [
        "get_nn(\"mother\",src_embeddings,src_id2word,tgt_embeddings,tgt_id2word,W)"
      ],
      "execution_count": null,
      "outputs": [
        {
          "output_type": "stream",
          "text": [
            "Nearest neighbors of \"mother\":\n",
            "0.5865 - mère\n",
            "0.4739 - sœur\n",
            "0.4727 - père\n",
            "0.4691 - tantes\n",
            "0.4685 - époux\n"
          ],
          "name": "stdout"
        }
      ]
    },
    {
      "cell_type": "markdown",
      "metadata": {
        "id": "b9BKkxT9hAcu"
      },
      "source": [
        "# Training the three methods on normalized and unnormalized inputs"
      ]
    },
    {
      "cell_type": "code",
      "metadata": {
        "id": "6Bbi9ZVCw8An"
      },
      "source": [
        "alpha = 0.05\n",
        "epochs = 300 \n",
        "\n",
        "W_grad_cos = cos_gdt_dst(alpha, X_train, Z_train, epochs)\n",
        "W_grad_cos_norm = cos_gdt_dst(alpha, X_train_norm, Z_train_norm, epochs)\n",
        "\n",
        "W_grad_quad = quad_gdt_dst(alpha, X_train, Z_train, epochs)\n",
        "W_grad_quad_norm = quad_gdt_dst(alpha, X_train_norm, Z_train_norm, epochs)\n",
        "\n",
        "W_procrustes = procrustes(X_train, Z_train)\n",
        "W_procrustes_norm = procrustes(X_train_norm, Z_train_norm)"
      ],
      "execution_count": null,
      "outputs": []
    },
    {
      "cell_type": "markdown",
      "metadata": {
        "id": "Qu1bKfyQuy0x"
      },
      "source": [
        "Saving arrays (Long training)"
      ]
    },
    {
      "cell_type": "code",
      "metadata": {
        "id": "8LWQiSiOvi4t"
      },
      "source": [
        "# !mkdir training_results"
      ],
      "execution_count": null,
      "outputs": []
    },
    {
      "cell_type": "code",
      "metadata": {
        "id": "6Jo4XaR4uIyZ"
      },
      "source": [
        "# np.save('training_results/W_grad_cos.npy', W_grad_cos)\n",
        "# np.save('training_results/W_grad_cos_norm.npy', W_grad_cos_norm)\n",
        "# np.save('training_results/W_grad_quad.npy', W_grad_quad)\n",
        "# np.save('training_results/W_grad_quad_norm.npy', W_grad_quad_norm)\n",
        "# np.save('training_results/W_procrustes.npy', W_procrustes)\n",
        "# np.save('training_results/W_procrustes_norm.npy', W_procrustes_norm)"
      ],
      "execution_count": null,
      "outputs": []
    },
    {
      "cell_type": "markdown",
      "metadata": {
        "id": "JqVZsWbzvUqw"
      },
      "source": [
        "Loading arrays :"
      ]
    },
    {
      "cell_type": "code",
      "metadata": {
        "id": "Yl3vSh0Ru4Si"
      },
      "source": [
        "# W_grad_cos = np.load('training_results/W_grad_cos.npy')\n",
        "# W_grad_cos_norm = np.load('training_results/W_grad_cos_norm.npy')\n",
        "\n",
        "# W_grad_quad = np.load('training_results/W_grad_quad.npy')\n",
        "# W_grad_quad_norm = np.load('training_results/W_grad_quad_norm.npy')\n",
        "\n",
        "# W_procrustes = np.load('training_results/W_procrustes.npy')\n",
        "# W_procrustes_norm = np.load('training_results/W_procrustes_norm.npy')\n"
      ],
      "execution_count": null,
      "outputs": []
    },
    {
      "cell_type": "code",
      "metadata": {
        "colab": {
          "base_uri": "https://localhost:8080/"
        },
        "id": "fwNysqAZJXYz",
        "outputId": "b8310f1e-8eb9-40d6-8a6a-1c1eae8b1ce6"
      },
      "source": [
        "print(\"A / Using gradient descent with cosine similarity:\\n\")\n",
        "\n",
        "print(\"A1 / For unnormalized inputs :\")\n",
        "print(\"Cosine sim for training \", evaluate_cosine(W_grad_cos, X_train, Z_train))\n",
        "print(\"Cosine sim for testing \", evaluate_cosine(W_grad_cos, X_test, Z_test))\n",
        "\n",
        "print(\"A2 / For normalized inputs :\")\n",
        "print(\"Cosine sim for training \", evaluate_cosine(W_grad_cos_norm, X_train_norm, Z_train_norm))\n",
        "print(\"Cosine sim for testing \", evaluate_cosine(W_grad_cos_norm, X_test_norm, Z_test_norm))\n",
        "print(\"\\n\\n\")\n",
        "\n",
        "#///////////////////////////////////////////////////////////////////////////////////////////////////\n",
        "\n",
        "print(\"B / Using gradient descent with Quadratic distance:\\n\")\n",
        "\n",
        "print(\"B1 / For unnormalized inputs :\")\n",
        "print(\"Cosine sim for training \", evaluate_cosine(W_grad_quad, X_train, Z_train))\n",
        "print(\"Cosine sim for testing \", evaluate_cosine(W_grad_quad, X_test, Z_test))\n",
        "\n",
        "print(\"B2 / For normalized inputs :\")\n",
        "print(\"Cosine sim for training \", evaluate_cosine(W_grad_quad_norm, X_train_norm, Z_train_norm))\n",
        "print(\"Cosine sim for testing \", evaluate_cosine(W_grad_quad_norm, X_test_norm, Z_test_norm))\n",
        "print(\"\\n\\n\")\n",
        "\n",
        "#///////////////////////////////////////////////////////////////////////////////////////////////////\n",
        "\n",
        "\n",
        "print(\"C / Using Procrustes algorithm :\\n\")\n",
        "\n",
        "print(\"For unnormalized inputs :\")\n",
        "print(\"Cosine sim for training \", evaluate_cosine(W_procrustes, X_train, Z_train))\n",
        "print(\"Cosine sim for testing \", evaluate_cosine(W_procrustes, X_test, Z_test))\n",
        "\n",
        "print(\"For normalized inputs :\")\n",
        "print(\"Cosine sim for training \", evaluate_cosine(W_procrustes_norm, X_train_norm, Z_train_norm))\n",
        "print(\"Cosine sim for testing \", evaluate_cosine(W_procrustes_norm, X_test_norm, Z_test_norm))"
      ],
      "execution_count": null,
      "outputs": [
        {
          "output_type": "stream",
          "text": [
            "A / Using gradient descent with cosine similarity:\n",
            "\n",
            "A1 / For unnormalized inputs :\n",
            "Bef tr : 0.01769880358083903 Aft tr : -0.011446674987884164\n",
            "Cosine sim for training  None\n",
            "Bef tr : 0.01781777339407493 Aft tr : -0.009702933532630183\n",
            "Cosine sim for testing  None\n",
            "A2 / For normalized inputs :\n",
            "Bef tr : 0.017698803580839032 Aft tr : -0.009815192026373307\n",
            "Cosine sim for training  None\n",
            "Bef tr : 0.017817773394074927 Aft tr : -0.0075203368104261314\n",
            "Cosine sim for testing  None\n",
            "\n",
            "\n",
            "\n",
            "B / Using gradient descent with Quadratic distance:\n",
            "\n",
            "B1 / For unnormalized inputs :\n",
            "Bef tr : 0.01769880358083903 Aft tr : 0.25515851051604044\n",
            "Cosine sim for training  None\n",
            "Bef tr : 0.01781777339407493 Aft tr : 0.25601490176052416\n",
            "Cosine sim for testing  None\n",
            "B2 / For normalized inputs :\n",
            "Bef tr : 0.017698803580839032 Aft tr : 0.2805011377332783\n",
            "Cosine sim for training  None\n",
            "Bef tr : 0.017817773394074927 Aft tr : 0.2809639144542358\n",
            "Cosine sim for testing  None\n",
            "\n",
            "\n",
            "\n",
            "C / Using Procrustes algorithm :\n",
            "\n",
            "For unnormalized inputs :\n",
            "Bef tr : 0.01769880358083903 Aft tr : 0.6364965906008941\n",
            "Cosine sim for training  None\n",
            "Bef tr : 0.01781777339407493 Aft tr : 0.6336727071044929\n",
            "Cosine sim for testing  None\n",
            "For normalized inputs :\n",
            "Bef tr : 0.017698803580839032 Aft tr : 0.6374253249991829\n",
            "Cosine sim for training  None\n",
            "Bef tr : 0.017817773394074927 Aft tr : 0.6320968843934693\n",
            "Cosine sim for testing  None\n"
          ],
          "name": "stdout"
        }
      ]
    },
    {
      "cell_type": "markdown",
      "metadata": {
        "id": "bn_Le0Q-Bi2x"
      },
      "source": [
        "# **UNSUPERVISED LEARING**"
      ]
    },
    {
      "cell_type": "markdown",
      "metadata": {
        "id": "-gGEfgk2_t5H"
      },
      "source": [
        "# We train our model on 25 epochs and keep the settings that performs best on a small validation part of our dataset (3 %)"
      ]
    },
    {
      "cell_type": "code",
      "metadata": {
        "colab": {
          "base_uri": "https://localhost:8080/"
        },
        "id": "pe6fBE3j0XiB",
        "outputId": "0b521d65-342a-4622-dfdc-bbb63b0c54b5"
      },
      "source": [
        "discriminator, generator, gan = gan_utils.compile_gan(initial_learning_rate=0.1, decay_steps=10000, decay_rate=0.98)\n",
        "\n",
        "val_acc, W_best = gan_utils.train_gan(X_train_norm, tgt_embeddings_norm, X_val_norm, Z_val_norm, discriminator, generator, gan, epochs = 25, batch_size = 32, epoch_size = 4500, dis_steps = 3, beta = 0.001, sm = 0.1, mf = 15000)"
      ],
      "execution_count": null,
      "outputs": [
        {
          "output_type": "stream",
          "text": [
            "Epoch: 0 \n",
            "      Discriminator Loss: 0.5643410086631775 \t\t Generator Loss: 0.7758752107620239\n",
            "      Accuracy of translation on validation set :    0.048285852245292124 %\n",
            "\n",
            "Epoch: 1 \n",
            "      Discriminator Loss: 0.6503825187683105 \t\t Generator Loss: 1.9538800716400146\n",
            "      Accuracy of translation on validation set :    0.0 %\n",
            "\n",
            "Epoch: 2 \n",
            "      Discriminator Loss: 0.47016626596450806 \t\t Generator Loss: 1.7170531749725342\n",
            "      Accuracy of translation on validation set :    0.14485755673587639 %\n",
            "\n",
            "Epoch: 3 \n",
            "      Discriminator Loss: 0.42470836639404297 \t\t Generator Loss: 1.4088613986968994\n",
            "      Accuracy of translation on validation set :    0.1931434089811685 %\n",
            "\n",
            "Epoch: 4 \n",
            "      Discriminator Loss: 0.43276673555374146 \t\t Generator Loss: 1.3499846458435059\n",
            "      Accuracy of translation on validation set :    5.89087397392564 %\n",
            "\n",
            "Epoch: 5 \n",
            "      Discriminator Loss: 0.45119670033454895 \t\t Generator Loss: 1.1792285442352295\n",
            "      Accuracy of translation on validation set :    22.88749396426847 %\n",
            "\n",
            "Epoch: 6 \n",
            "      Discriminator Loss: 0.60627281665802 \t\t Generator Loss: 2.442657947540283\n",
            "      Accuracy of translation on validation set :    28.971511347175277 %\n",
            "\n",
            "Epoch: 7 \n",
            "      Discriminator Loss: 0.4098301827907562 \t\t Generator Loss: 2.043116569519043\n",
            "      Accuracy of translation on validation set :    33.75181071945919 %\n",
            "\n",
            "Epoch: 8 \n",
            "      Discriminator Loss: 0.42318838834762573 \t\t Generator Loss: 1.2296431064605713\n",
            "      Accuracy of translation on validation set :    35.63495895702559 %\n",
            "\n",
            "Epoch: 9 \n",
            "      Discriminator Loss: 0.424582839012146 \t\t Generator Loss: 1.9668662548065186\n",
            "      Accuracy of translation on validation set :    37.228392081120234 %\n",
            "\n",
            "Epoch: 10 \n",
            "      Discriminator Loss: 0.396294504404068 \t\t Generator Loss: 2.2493553161621094\n",
            "      Accuracy of translation on validation set :    38.24239497827136 %\n",
            "\n",
            "Epoch: 11 \n",
            "      Discriminator Loss: 0.3663882613182068 \t\t Generator Loss: 1.7492737770080566\n",
            "      Accuracy of translation on validation set :    31.43408981168518 %\n",
            "\n",
            "Epoch: 12 \n",
            "      Discriminator Loss: 0.3888181149959564 \t\t Generator Loss: 1.8550851345062256\n",
            "      Accuracy of translation on validation set :    17.96233703524867 %\n",
            "\n",
            "Epoch: 13 \n",
            "      Discriminator Loss: 0.37218037247657776 \t\t Generator Loss: 2.1798596382141113\n",
            "      Accuracy of translation on validation set :    11.733462095605987 %\n",
            "\n",
            "Epoch: 14 \n",
            "      Discriminator Loss: 0.3571151793003082 \t\t Generator Loss: 2.2242326736450195\n",
            "      Accuracy of translation on validation set :    11.154031868662482 %\n",
            "\n",
            "Epoch: 15 \n",
            "      Discriminator Loss: 0.38097238540649414 \t\t Generator Loss: 2.0828938484191895\n",
            "      Accuracy of translation on validation set :    12.699179140511829 %\n",
            "\n",
            "Epoch: 16 \n",
            "      Discriminator Loss: 0.4506782591342926 \t\t Generator Loss: 2.62087345123291\n",
            "      Accuracy of translation on validation set :    5.987445678416224 %\n",
            "\n",
            "Epoch: 17 \n",
            "      Discriminator Loss: 0.38013845682144165 \t\t Generator Loss: 2.240635871887207\n",
            "      Accuracy of translation on validation set :    7.098020280057943 %\n",
            "\n",
            "Epoch: 18 \n",
            "      Discriminator Loss: 0.3508993685245514 \t\t Generator Loss: 2.1784110069274902\n",
            "      Accuracy of translation on validation set :    13.182037662964753 %\n",
            "\n",
            "Epoch: 19 \n",
            "      Discriminator Loss: 0.37871965765953064 \t\t Generator Loss: 1.8445113897323608\n",
            "      Accuracy of translation on validation set :    16.851762433606954 %\n",
            "\n",
            "Epoch: 20 \n",
            "      Discriminator Loss: 0.3550373613834381 \t\t Generator Loss: 2.1857776641845703\n",
            "      Accuracy of translation on validation set :    18.734910671173346 %\n",
            "\n",
            "Epoch: 21 \n",
            "      Discriminator Loss: 0.3913598954677582 \t\t Generator Loss: 1.7111518383026123\n",
            "      Accuracy of translation on validation set :    19.12119748913568 %\n",
            "\n",
            "Epoch: 22 \n",
            "      Discriminator Loss: 0.37023526430130005 \t\t Generator Loss: 1.757753610610962\n",
            "      Accuracy of translation on validation set :    25.446644133268954 %\n",
            "\n",
            "Epoch: 23 \n",
            "      Discriminator Loss: 0.36612117290496826 \t\t Generator Loss: 2.1579747200012207\n",
            "      Accuracy of translation on validation set :    31.868662481892805 %\n",
            "\n",
            "Epoch: 24 \n",
            "      Discriminator Loss: 0.3735268712043762 \t\t Generator Loss: 2.2634835243225098\n",
            "      Accuracy of translation on validation set :    32.4963785610816 %\n",
            "\n"
          ],
          "name": "stdout"
        }
      ]
    },
    {
      "cell_type": "code",
      "metadata": {
        "id": "zbny0f5Z6wal"
      },
      "source": [
        "W_best = generator.get_weights()[0]\n",
        "\n",
        "np.save('W_best.npy', W_best)\n",
        "\n",
        "np.save('val_acc.npy', val_acc)"
      ],
      "execution_count": null,
      "outputs": []
    },
    {
      "cell_type": "markdown",
      "metadata": {
        "id": "e2sk47L-CHTM"
      },
      "source": [
        "# Load best rotation matrix of previously trained model "
      ]
    },
    {
      "cell_type": "code",
      "metadata": {
        "id": "BsUKryMzCGAX"
      },
      "source": [
        "W_best = np.load('W_best.npy')\n",
        "val_acc = np.load('val_acc.npy')"
      ],
      "execution_count": null,
      "outputs": []
    },
    {
      "cell_type": "code",
      "metadata": {
        "colab": {
          "base_uri": "https://localhost:8080/",
          "height": 463
        },
        "id": "osvA7WRbPbRL",
        "outputId": "6f054ce5-990f-4274-f1a6-349b0ef410cf"
      },
      "source": [
        "import matplotlib.pyplot as plt\n",
        "\n",
        "plt.figure(figsize=(15,7))\n",
        "plt.plot(list(range(25)), val_acc,'-o')\n",
        "plt.axis([0, 27, 0, 100])\n",
        "plt.xlabel('Epoch')\n",
        "plt.ylabel('Accuracy on val')"
      ],
      "execution_count": null,
      "outputs": [
        {
          "output_type": "execute_result",
          "data": {
            "text/plain": [
              "Text(0, 0.5, 'Accuracy on val')"
            ]
          },
          "metadata": {
            "tags": []
          },
          "execution_count": 16
        },
        {
          "output_type": "display_data",
          "data": {
            "image/png": "[encoded data removed]",
            "text/plain": [
              "<Figure size 1080x504 with 1 Axes>"
            ]
          },
          "metadata": {
            "tags": [],
            "needs_background": "light"
          }
        }
      ]
    },
    {
      "cell_type": "markdown",
      "metadata": {
        "id": "UtgzK8aMel1X"
      },
      "source": [
        "# **Plotting accuracy by K-neighbors taken into account in translation:**"
      ]
    },
    {
      "cell_type": "code",
      "metadata": {
        "colab": {
          "base_uri": "https://localhost:8080/"
        },
        "id": "81p_LM-FAjj2",
        "outputId": "fa165399-0763-48c6-cae4-3c0d99fd3e1c"
      },
      "source": [
        "# Due to very heavy computing cost of KNN we take a random sample of indexes of the test to run tests on.\n",
        "random_indexes = np.random.randint(0,X_test_norm.shape[0],size=2000)\n",
        "acc = []\n",
        "for i in range(1,11):\n",
        "  res = evaluate_utils.accuracy(X_test_norm[random_indexes], Z_test_norm[random_indexes], W_best, tgt_embeddings_norm, i)\n",
        "  acc.append(res)\n",
        "  print(f'(K = {i}) Accuracy on test set :{res} %')"
      ],
      "execution_count": null,
      "outputs": [
        {
          "output_type": "stream",
          "text": [
            "(K = 1) Accuracy on test set :33.45 %\n",
            "(K = 2) Accuracy on test set :42.75 %\n",
            "(K = 3) Accuracy on test set :48.5 %\n",
            "(K = 4) Accuracy on test set :52.2 %\n",
            "(K = 5) Accuracy on test set :54.400000000000006 %\n",
            "(K = 6) Accuracy on test set :57.25 %\n",
            "(K = 7) Accuracy on test set :58.550000000000004 %\n",
            "(K = 8) Accuracy on test set :59.9 %\n",
            "(K = 9) Accuracy on test set :61.35 %\n",
            "(K = 10) Accuracy on test set :62.64999999999999 %\n"
          ],
          "name": "stdout"
        }
      ]
    },
    {
      "cell_type": "code",
      "metadata": {
        "colab": {
          "base_uri": "https://localhost:8080/",
          "height": 463
        },
        "id": "a1nhmYdARB8Q",
        "outputId": "0fc8c826-9002-49d1-8212-841af38ac9d8"
      },
      "source": [
        "import matplotlib.pyplot as plt\n",
        "\n",
        "plt.figure(figsize=(15,7))\n",
        "plt.plot(list(range(10)), acc,'-o')\n",
        "plt.axis([0, 10, 0, 100])\n",
        "plt.xlabel('K-neighbors')\n",
        "plt.ylabel('Accuracy on test')"
      ],
      "execution_count": null,
      "outputs": [
        {
          "output_type": "execute_result",
          "data": {
            "text/plain": [
              "Text(0, 0.5, 'Accuracy on test')"
            ]
          },
          "metadata": {
            "tags": []
          },
          "execution_count": 35
        },
        {
          "output_type": "display_data",
          "data": {
            "image/png": "[encoded data removed]",
            "text/plain": [
              "<Figure size 1080x504 with 1 Axes>"
            ]
          },
          "metadata": {
            "tags": [],
            "needs_background": "light"
          }
        }
      ]
    },
    {
      "cell_type": "markdown",
      "metadata": {
        "id": "pM7RqF0TAk5e"
      },
      "source": [
        "# **Examples :**"
      ]
    },
    {
      "cell_type": "code",
      "metadata": {
        "colab": {
          "base_uri": "https://localhost:8080/"
        },
        "id": "0EU8MriSPoWw",
        "outputId": "651d96a6-25a4-4b5e-a3b4-f1e5b5ab48f8"
      },
      "source": [
        "evaluate_utils.get_word_nn(\"network\", W_best, src_embeddings_norm,src_id2word,tgt_embeddings_norm,tgt_id2word,K=3)"
      ],
      "execution_count": null,
      "outputs": [
        {
          "output_type": "stream",
          "text": [
            "Nearest neighbors of \"network\":\n",
            "    0.6039 - réseau\n",
            "    0.4837 - réseaux\n",
            "    0.4662 - maillon\n"
          ],
          "name": "stdout"
        }
      ]
    },
    {
      "cell_type": "code",
      "metadata": {
        "colab": {
          "base_uri": "https://localhost:8080/"
        },
        "id": "lcuUiCHEDZHM",
        "outputId": "39a89924-504b-49f4-874a-fdfc7b3877f8"
      },
      "source": [
        "evaluate_utils.get_word_nn(\"real\", W_best, src_embeddings_norm,src_id2word,tgt_embeddings_norm,tgt_id2word,K=3)"
      ],
      "execution_count": null,
      "outputs": [
        {
          "output_type": "stream",
          "text": [
            "Nearest neighbors of \"real\":\n",
            "    0.5230 - réelle\n",
            "    0.4772 - réel\n",
            "    0.4722 - vraie\n"
          ],
          "name": "stdout"
        }
      ]
    },
    {
      "cell_type": "code",
      "metadata": {
        "colab": {
          "base_uri": "https://localhost:8080/"
        },
        "id": "MR7qX_JSDuLh",
        "outputId": "3652c21a-4c79-4ca6-920e-8c21b24df757"
      },
      "source": [
        "evaluate_utils.get_word_nn(\"against\", W_best, src_embeddings_norm,src_id2word,tgt_embeddings_norm,tgt_id2word,K=3)"
      ],
      "execution_count": null,
      "outputs": [
        {
          "output_type": "stream",
          "text": [
            "Nearest neighbors of \"against\":\n",
            "    0.6731 - contre\n",
            "    0.5691 - opposant\n",
            "    0.5684 - affronte\n"
          ],
          "name": "stdout"
        }
      ]
    },
    {
      "cell_type": "code",
      "metadata": {
        "colab": {
          "base_uri": "https://localhost:8080/"
        },
        "id": "WaS7mUTC82PP",
        "outputId": "1180b1fd-c266-455a-ace6-13fb3ca7a42f"
      },
      "source": [
        "\n",
        "evaluate_utils.get_word_nn(\"hello\", W_best, src_embeddings_norm,src_id2word,tgt_embeddings_norm,tgt_id2word,K=3)"
      ],
      "execution_count": null,
      "outputs": [
        {
          "output_type": "stream",
          "text": [
            "Nearest neighbors of \"hello\":\n",
            "    0.5653 - voilà\n",
            "    0.5467 - attends\n",
            "    0.5352 - voilou\n"
          ],
          "name": "stdout"
        }
      ]
    },
    {
      "cell_type": "code",
      "metadata": {
        "colab": {
          "base_uri": "https://localhost:8080/"
        },
        "id": "ERjK3q3ZPhhm",
        "outputId": "6ab9759f-a839-4733-8689-ab5b329bab31"
      },
      "source": [
        "evaluate_utils.get_word_nn(\"doubt\", W_best, src_embeddings_norm,src_id2word,tgt_embeddings_norm,tgt_id2word,K=3)"
      ],
      "execution_count": null,
      "outputs": [
        {
          "output_type": "stream",
          "text": [
            "Nearest neighbors of \"doubt\":\n",
            "    0.6547 - douter\n",
            "    0.6426 - effectivement\n",
            "    0.6423 - présumer\n"
          ],
          "name": "stdout"
        }
      ]
    }
  ]
}